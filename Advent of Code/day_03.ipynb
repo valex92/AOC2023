{
 "cells": [
  {
   "cell_type": "code",
   "execution_count": 89,
   "metadata": {},
   "outputs": [
    {
     "data": {
      "text/plain": [
       "array([['.', '.', '.', ..., '.', '.', '.'],\n",
       "       ['.', '.', '.', ..., '.', '.', '.'],\n",
       "       ['.', '.', '.', ..., '2', '.', '.'],\n",
       "       ...,\n",
       "       ['.', '.', '.', ..., '.', '.', '.'],\n",
       "       ['.', '.', '.', ..., '.', '.', '.'],\n",
       "       ['.', '.', '.', ..., '.', '.', '.']], dtype='<U1')"
      ]
     },
     "execution_count": 89,
     "metadata": {},
     "output_type": "execute_result"
    }
   ],
   "source": [
    "import numpy as np\n",
    "\n",
    "puzzle_input: np.ndarray = np.loadtxt('day_03_input.txt', dtype=str, comments=None)\n",
    "puzzle_input: np.ndarray = np.array([list(row) for row in puzzle_input])\n",
    "schematic: np.ndarray = np.full(shape=(puzzle_input.shape[0]+2, puzzle_input.shape[1]+2), \n",
    "                                fill_value='.', \n",
    "                                dtype=str)\n",
    "schematic[1:-1, 1:-1] = puzzle_input.astype(str)\n",
    "schematic"
   ]
  },
  {
   "cell_type": "code",
   "execution_count": 90,
   "metadata": {},
   "outputs": [],
   "source": [
    "def is_symbol(char):\n",
    "    return not (char.isalpha() or char.isdigit() or char == '.')\n",
    "\n",
    "def check_for_symbols(i, j):\n",
    "    return (is_symbol(schematic[i-1, j-1]) or is_symbol(schematic[i-1, j]) \n",
    "            or is_symbol(schematic[i-1, j+1]) or is_symbol(schematic[i, j-1]) \n",
    "            or is_symbol(schematic[i, j+1]) or is_symbol(schematic[i+1, j-1]) \n",
    "            or is_symbol(schematic[i+1, j]) or is_symbol(schematic[i+1, j+1]))"
   ]
  },
  {
   "cell_type": "code",
   "execution_count": 67,
   "metadata": {},
   "outputs": [
    {
     "name": "stdout",
     "output_type": "stream",
     "text": [
      "4361\n"
     ]
    }
   ],
   "source": [
    "# Part 1\n",
    "height = schematic.shape[0]\n",
    "width = schematic.shape[1]\n",
    "\n",
    "sum = 0\n",
    "i = 0\n",
    "while i < height:\n",
    "    j = 0\n",
    "    while j < width:\n",
    "        if schematic[i, j].isdigit():\n",
    "            add = False\n",
    "            value = schematic[i, j]\n",
    "            if check_for_symbols(i, j):\n",
    "                add = True\n",
    "            while schematic[i, j+1].isdigit():\n",
    "                j += 1\n",
    "                value = f'{value}{schematic[i, j]}'\n",
    "                if check_for_symbols(i, j):\n",
    "                    add = True\n",
    "            if add:\n",
    "                sum += int(value)\n",
    "        j += 1\n",
    "    i += 1\n",
    "\n",
    "print(sum)"
   ]
  },
  {
   "cell_type": "code",
   "execution_count": 92,
   "metadata": {},
   "outputs": [],
   "source": [
    "# Part 2\n",
    "\n",
    "# Step 1: locate coordinates of all gears, and save to storage\n",
    "gear_indices = np.where(schematic == '*')\n",
    "gear_indices = dict.fromkeys(zip(gear_indices[0], \n",
    "                                 gear_indices[1]), [])\n",
    "gear_indices\n",
    "\n",
    "\n",
    "def check_for_gear(i, j):\n",
    "    if (i-1, j-1) in gear_indices:\n",
    "        return (i-1, j-1)\n",
    "    if (i-1, j) in gear_indices:\n",
    "        return (i-1, j)\n",
    "    if (i-1, j+1) in gear_indices:\n",
    "        return (i-1, j+1)\n",
    "    if (i, j-1) in gear_indices:\n",
    "        return (i, j-1)\n",
    "    if (i, j+1) in gear_indices:\n",
    "        return (i, j+1)\n",
    "    if (i+1, j-1) in gear_indices:\n",
    "        return (i+1, j-1)\n",
    "    if (i+1, j) in gear_indices:\n",
    "        return (i+1, j)\n",
    "    if (i+1, j+1) in gear_indices:\n",
    "        return (i+1, j+1)\n",
    "    return False"
   ]
  },
  {
   "cell_type": "code",
   "execution_count": 93,
   "metadata": {},
   "outputs": [],
   "source": [
    "\n",
    "# Step 2 loop through array, add all numbers adjacent to a gear to storage\n",
    "height = schematic.shape[0]\n",
    "width = schematic.shape[1]\n",
    "i = 0\n",
    "while i < height:\n",
    "    j = 0\n",
    "    while j < width:\n",
    "        if schematic[i, j].isdigit():\n",
    "            value = schematic[i, j]\n",
    "            add = check_for_gear(i, j)\n",
    "            while schematic[i, j+1].isdigit():\n",
    "                j += 1\n",
    "                value = f'{value}{schematic[i, j]}'\n",
    "                if not add:\n",
    "                    add = check_for_gear(i, j)\n",
    "            if add:\n",
    "                gear_indices[add] = gear_indices[add] + [value]\n",
    "        j += 1\n",
    "    i += 1"
   ]
  },
  {
   "cell_type": "code",
   "execution_count": 94,
   "metadata": {},
   "outputs": [
    {
     "name": "stdout",
     "output_type": "stream",
     "text": [
      "87263515\n"
     ]
    }
   ],
   "source": [
    "# Step 3: check how many gears have exactly two numbers, and save the product\n",
    "sum = 0\n",
    "for key in gear_indices:\n",
    "    if len(gear_indices[key]) == 2:\n",
    "        sum += int(gear_indices[key][0]) * int(gear_indices[key][1])\n",
    "print(sum)"
   ]
  }
 ],
 "metadata": {
  "kernelspec": {
   "display_name": ".venv",
   "language": "python",
   "name": "python3"
  },
  "language_info": {
   "codemirror_mode": {
    "name": "ipython",
    "version": 3
   },
   "file_extension": ".py",
   "mimetype": "text/x-python",
   "name": "python",
   "nbconvert_exporter": "python",
   "pygments_lexer": "ipython3",
   "version": "3.10.0"
  }
 },
 "nbformat": 4,
 "nbformat_minor": 2
}
