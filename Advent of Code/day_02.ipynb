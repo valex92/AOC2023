{
 "cells": [
  {
   "cell_type": "code",
   "execution_count": null,
   "metadata": {},
   "outputs": [],
   "source": [
    "from dataclasses import dataclass\n",
    "\n",
    "@dataclass\n",
    "class Round:\n",
    "    red: int\n",
    "    green: int\n",
    "    blue: int\n",
    "\n",
    "def parse_round_description(desc: str) -> Round:\n",
    "        # expecting round description like \"3 blue, 4 red\"\n",
    "        red, green, blue = 0, 0, 0\n",
    "        for color in desc.split(','):\n",
    "            count, color = color.split()\n",
    "            if color == 'red':\n",
    "                red = int(count)\n",
    "            elif color == 'green':\n",
    "                green = int(count)\n",
    "            elif color == 'blue':\n",
    "                blue = int(count)\n",
    "        return Round(red, green, blue)\n",
    "\n",
    "parse_round_description(\"3 blue, 4 red\")"
   ]
  },
  {
   "cell_type": "code",
   "execution_count": null,
   "metadata": {},
   "outputs": [],
   "source": [
    "class Game:\n",
    "    def __init__(self, line: str):\n",
    "        # Expecting input line like \"Game 1: 3 blue, 4 red; 1 red, 2 green, 6 blue; 2 green\"\n",
    "        game, desc = line.split(':')\n",
    "        self.id = int(game.split()[1])\n",
    "        self.rounds = [parse_round_description(r) for r in desc.split(';')]\n",
    "\n",
    "    def analyze(self) -> None:\n",
    "        self.max_red = max([r.red for r in self.rounds])\n",
    "        self.max_green = max([r.green for r in self.rounds])\n",
    "        self.max_blue = max([r.blue for r in self.rounds])\n",
    "        self.power = self.max_red * self.max_green * self.max_blue\n",
    "    \n",
    "    def is_possible(self) -> bool:\n",
    "        return self.max_red <= 12 and self.max_green <= 13 and self.max_blue <= 14"
   ]
  },
  {
   "cell_type": "code",
   "execution_count": null,
   "metadata": {},
   "outputs": [],
   "source": [
    "g = Game(\"Game 1: 3 blue, 4 red; 1 red, 2 green, 6 blue; 2 green\")\n",
    "g.analyze()\n",
    "g.power"
   ]
  },
  {
   "cell_type": "code",
   "execution_count": null,
   "metadata": {},
   "outputs": [],
   "source": [
    "# Iterate through each line in day_01_input.txt\n",
    "sum: int = 0\n",
    "power: int = 0\n",
    "for line in open('day_02_input.txt'):\n",
    "    g = Game(line)\n",
    "    g.analyze()\n",
    "    power += g.power\n",
    "    if g.is_possible():\n",
    "        sum += g.id\n",
    "\n",
    "print(sum)\n",
    "print(power)"
   ]
  }
 ],
 "metadata": {
  "kernelspec": {
   "display_name": ".venv",
   "language": "python",
   "name": "python3"
  },
  "language_info": {
   "codemirror_mode": {
    "name": "ipython",
    "version": 3
   },
   "file_extension": ".py",
   "mimetype": "text/x-python",
   "name": "python",
   "nbconvert_exporter": "python",
   "pygments_lexer": "ipython3",
   "version": "3.10.0"
  }
 },
 "nbformat": 4,
 "nbformat_minor": 2
}
