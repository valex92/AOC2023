{
 "cells": [
  {
   "cell_type": "code",
   "execution_count": 56,
   "metadata": {},
   "outputs": [
    {
     "name": "stdout",
     "output_type": "stream",
     "text": [
      "12\n",
      "38\n",
      "15\n",
      "77\n"
     ]
    }
   ],
   "source": [
    "def extract_calibration_value(line: str) -> int:\n",
    "    \"\"\"Extract the calibration value from a line of input.\"\"\"\n",
    "    # Remove all non-numeric characters from the line\n",
    "    numeric_only: str = ''.join(filter(str.isdigit, line))\n",
    "    # Return the first and last integers in the line\n",
    "    first, last = int(numeric_only[0]), int(numeric_only[-1])\n",
    "    # Concatenate the two integers and return the result\n",
    "    return int(f'{first}{last}')\n",
    "\n",
    "print(extract_calibration_value('1abc2'))\n",
    "print(extract_calibration_value('pqr3stu8vwx'))\n",
    "print(extract_calibration_value('a1b2c3d4e5f'))\n",
    "print(extract_calibration_value('treb7uchet'))"
   ]
  },
  {
   "cell_type": "code",
   "execution_count": 3,
   "metadata": {},
   "outputs": [
    {
     "name": "stdout",
     "output_type": "stream",
     "text": [
      "53921\n"
     ]
    }
   ],
   "source": [
    "# Part 1\n",
    "sum: int = 0\n",
    "for line in open('day_01_input.txt'):\n",
    "    # Print the calibration value for each line\n",
    "    sum += extract_calibration_value(line)\n",
    "\n",
    "print(sum)"
   ]
  },
  {
   "cell_type": "code",
   "execution_count": 49,
   "metadata": {},
   "outputs": [
    {
     "name": "stdout",
     "output_type": "stream",
     "text": [
      "29\n",
      "83\n",
      "13\n",
      "24\n",
      "42\n",
      "14\n",
      "76\n"
     ]
    }
   ],
   "source": [
    "def find_first_number(line: str) -> int:\n",
    "    # Return the value of the first number in the line\n",
    "    \n",
    "    # Find first numeric character\n",
    "    index = float('inf')\n",
    "    value = None\n",
    "    for i, char in enumerate(line):\n",
    "        if char.isdigit():\n",
    "            index = i\n",
    "            value = int(char)\n",
    "            break\n",
    "\n",
    "    # Check for spelled numbers\n",
    "    spelled_numbers = {'one': 1, 'two': 2, 'three': 3, 'four': 4, 'five': 5, 'six': 6, 'seven': 7, 'eight': 8, 'nine': 9}\n",
    "    for number in spelled_numbers:\n",
    "        match_index = line.find(number)\n",
    "        if match_index != -1 and match_index < index:\n",
    "            index = match_index\n",
    "            value = spelled_numbers[number]\n",
    "    \n",
    "    return value\n",
    "\n",
    "\n",
    "def find_last_number(line: str) -> int:\n",
    "    # Return the value of the last spelled number in the line\n",
    "\n",
    "    # Find last numeric character\n",
    "    index = -1\n",
    "    value = None\n",
    "    for i, char in enumerate(line[::-1]):\n",
    "        if char.isdigit():\n",
    "            index = len(line) - i - 1\n",
    "            value = int(char)\n",
    "            break\n",
    "\n",
    "    # Check for spelled numbers\n",
    "    spelled_numbers = {'one': 1, 'two': 2, 'three': 3, 'four': 4, 'five': 5, 'six': 6, 'seven': 7, 'eight': 8, 'nine': 9}\n",
    "    for number in spelled_numbers:\n",
    "        match_index = line.rfind(number)\n",
    "        if match_index != -1 and match_index > index:\n",
    "            index = match_index\n",
    "            value = spelled_numbers[number]\n",
    "    \n",
    "    return value\n",
    "\n",
    "def extract_calibration_value(line: str) -> int:\n",
    "    return int(f'{find_first_number(line)}{find_last_number(line)}')\n",
    "\n",
    "\n",
    "print(extract_calibration_value('two1nine'))\n",
    "print(extract_calibration_value('eightwothree'))\n",
    "print(extract_calibration_value('abcone2threexyz'))\n",
    "print(extract_calibration_value('xtwone3four'))\n",
    "print(extract_calibration_value('4nineeightseven2'))\n",
    "print(extract_calibration_value('zoneight234'))\n",
    "print(extract_calibration_value('7pqrstsixteen'))"
   ]
  },
  {
   "cell_type": "code",
   "execution_count": 50,
   "metadata": {},
   "outputs": [
    {
     "name": "stdout",
     "output_type": "stream",
     "text": [
      "54676\n"
     ]
    }
   ],
   "source": [
    "# Part 2\n",
    "sum: int = 0\n",
    "for line in open('day_01_input.txt'):\n",
    "    # Print the calibration value for each line\n",
    "    sum += extract_calibration_value(line)\n",
    "\n",
    "print(sum)"
   ]
  }
 ],
 "metadata": {
  "kernelspec": {
   "display_name": ".venv",
   "language": "python",
   "name": "python3"
  },
  "language_info": {
   "codemirror_mode": {
    "name": "ipython",
    "version": 3
   },
   "file_extension": ".py",
   "mimetype": "text/x-python",
   "name": "python",
   "nbconvert_exporter": "python",
   "pygments_lexer": "ipython3",
   "version": "3.10.0"
  }
 },
 "nbformat": 4,
 "nbformat_minor": 2
}
